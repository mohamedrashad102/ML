{
  "cells": [
    {
      "cell_type": "markdown",
      "metadata": {
        "id": "Flxz-jSFM4M5"
      },
      "source": [
        "Import Important libraries"
      ]
    },
    {
      "cell_type": "code",
      "execution_count": null,
      "metadata": {
        "id": "igeK3vRGo8n-"
      },
      "outputs": [],
      "source": [
        "import numpy as np\n",
        "import pandas as pd\n",
        "import matplotlib.pyplot as plt"
      ]
    },
    {
      "cell_type": "markdown",
      "metadata": {
        "id": "Cf9BWXsbMzL0"
      },
      "source": [
        "Read the data"
      ]
    },
    {
      "cell_type": "code",
      "execution_count": null,
      "metadata": {
        "colab": {
          "base_uri": "https://localhost:8080/",
          "height": 206
        },
        "id": "UIH3cQa6pOou",
        "outputId": "bbd0a285-7efb-45dd-e4e1-7bb8ea1e86a5"
      },
      "outputs": [],
      "source": [
        "df = pd.read_csv(\"car.csv\")\n",
        "df.head()"
      ]
    },
    {
      "cell_type": "markdown",
      "metadata": {
        "id": "fxSRAjfNItOt"
      },
      "source": [
        "Split data to Features(x) and label(y)"
      ]
    },
    {
      "cell_type": "code",
      "execution_count": null,
      "metadata": {
        "id": "FyAwOwt4fROb"
      },
      "outputs": [],
      "source": [
        "x = df.iloc[:, :-1].values # Features: Extracting all rows for all columns except the last one (label) \n",
        "y = df.iloc[:, -1].values # Label: Extracting all rows for the last column (label)\n",
        "print('col   null count')\n",
        "pd.DataFrame(x).isnull().sum() # Display columns with missing data "
      ]
    },
    {
      "cell_type": "markdown",
      "metadata": {
        "id": "YnIb61PPI_GS"
      },
      "source": [
        "Take care of Missing data"
      ]
    },
    {
      "cell_type": "code",
      "execution_count": null,
      "metadata": {
        "colab": {
          "base_uri": "https://localhost:8080/",
          "height": 423
        },
        "id": "VQNxdEf4izXm",
        "outputId": "1e0c53d8-b567-4361-c60f-7de993282f52"
      },
      "outputs": [],
      "source": [
        "from sklearn.impute import SimpleImputer\n",
        "\n",
        "missing_cols = range(7, 11) \n",
        "most_freq_imputer = SimpleImputer(missing_values=np.nan, strategy='most_frequent')\n",
        "most_freq_imputer.fit(x[:, missing_cols])\n",
        "x[:, missing_cols] = most_freq_imputer.transform(x[:, missing_cols])\n",
        "print('col   null count')\n",
        "pd.DataFrame(x).isnull().sum()"
      ]
    },
    {
      "cell_type": "markdown",
      "metadata": {
        "id": "HqM3CEwGIpql"
      },
      "source": [
        "Encoding the Independent Variable"
      ]
    },
    {
      "cell_type": "code",
      "execution_count": null,
      "metadata": {
        "colab": {
          "base_uri": "https://localhost:8080/",
          "height": 423
        },
        "id": "TVh_dN9anzxL",
        "outputId": "ab618f88-0b83-493b-af20-23729ab6b6d8"
      },
      "outputs": [],
      "source": [
        "from sklearn.compose import ColumnTransformer\n",
        "from sklearn.preprocessing import OneHotEncoder\n",
        "\n",
        "category_cols = [0, 3, 4, 5, 6]\n",
        "ct = ColumnTransformer(transformers=[('encoder', OneHotEncoder(), category_cols)], remainder='passthrough')\n",
        "x = np.array(ct.fit_transform(x))\n",
        "pd.DataFrame(x)"
      ]
    },
    {
      "cell_type": "markdown",
      "metadata": {
        "id": "f4tL24jwN1KQ"
      },
      "source": [
        "Splitting the dataset into training set and test set"
      ]
    },
    {
      "cell_type": "code",
      "execution_count": null,
      "metadata": {
        "colab": {
          "base_uri": "https://localhost:8080/"
        },
        "id": "F_9Q-HwfpQK2",
        "outputId": "e8e7f963-b30d-4ebf-8f24-2b23bb788067"
      },
      "outputs": [],
      "source": [
        "from sklearn.model_selection import train_test_split\n",
        "x_train,x_test,y_train,y_test = train_test_split(x,y ,test_size=0.2, random_state=9)"
      ]
    },
    {
      "cell_type": "markdown",
      "metadata": {},
      "source": [
        "Training the Multiple Linear Regression model on the Training set"
      ]
    },
    {
      "cell_type": "code",
      "execution_count": null,
      "metadata": {},
      "outputs": [],
      "source": [
        "from sklearn.linear_model import LinearRegression\n",
        "regressor = LinearRegression()\n",
        "regressor.fit(x_train, y_train)"
      ]
    },
    {
      "cell_type": "code",
      "execution_count": null,
      "metadata": {},
      "outputs": [],
      "source": [
        "training_acc = np.ceil(regressor.score(x_train, y_train) * 100)\n",
        "print(\"The Training Accuracy = \", training_acc, \"%\")"
      ]
    },
    {
      "cell_type": "markdown",
      "metadata": {},
      "source": [
        "Predicting the Test set results"
      ]
    },
    {
      "cell_type": "code",
      "execution_count": null,
      "metadata": {},
      "outputs": [],
      "source": [
        "y_pred = regressor.predict(x_test)\n",
        "np.set_printoptions(precision=2)\n",
        "print(np.concatenate((y_pred.reshape(-1,1), y_test.reshape(-1,1)) , axis=1))"
      ]
    },
    {
      "cell_type": "code",
      "execution_count": null,
      "metadata": {},
      "outputs": [],
      "source": [
        "testing_acc = np.ceil(regressor.score(x_test, y_test) * 100)\n",
        "print(\"The Testing_acc Accuracy = \", testing_acc, \"%\")"
      ]
    },
    {
      "cell_type": "markdown",
      "metadata": {},
      "source": [
        "Getting the final linear regression equation with the values of the coefficients"
      ]
    },
    {
      "cell_type": "code",
      "execution_count": null,
      "metadata": {},
      "outputs": [],
      "source": [
        "print(regressor.coef_)\n",
        "print(regressor.intercept_)"
      ]
    }
  ],
  "metadata": {
    "colab": {
      "collapsed_sections": [
        "Flxz-jSFM4M5"
      ],
      "provenance": []
    },
    "kernelspec": {
      "display_name": "Python 3",
      "name": "python3"
    },
    "language_info": {
      "codemirror_mode": {
        "name": "ipython",
        "version": 3
      },
      "file_extension": ".py",
      "mimetype": "text/x-python",
      "name": "python",
      "nbconvert_exporter": "python",
      "pygments_lexer": "ipython3",
      "version": "3.10.1"
    }
  },
  "nbformat": 4,
  "nbformat_minor": 0
}
